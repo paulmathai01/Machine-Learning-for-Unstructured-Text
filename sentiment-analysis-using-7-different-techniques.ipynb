{
 "cells": [
  {
   "cell_type": "markdown",
   "metadata": {
    "_uuid": "c8b3431b00075c7d6417f6467e849992d5ad02cf"
   },
   "source": [
    "# <center> Movie Review Sentiment Analysis </center>\n",
    "## <center> Classify the sentiment of sentences from the Rotten Tomatoes dataset </center>"
   ]
  },
  {
   "cell_type": "markdown",
   "metadata": {
    "_uuid": "4f7b613706cf45c8dbbcc0c9fd20c33900a9f27c"
   },
   "source": [
    "##  Contents\n",
    "* [Introduction](#introduction)\n",
    "* [EDA](#eda)\n",
    "* [Different Machine Learning Models ](#ml)\n",
    "  *  [  N-Grams Method ](#N-Grams)\n",
    "  *  [GRU model ](#gru)\n",
    "  *  [ LSTM model](#lstm)\n",
    "  *  [Bidirectional-GRU model](#bgru)\n",
    "  *  [ CNN model ](#cnn)\n",
    "  *  [ CNN-GRU ](#cgru)\n",
    "  *  [GRU-CNN ](#gruc)\n",
    "* [Final Ensemble](#en) \n",
    "    "
   ]
  },
  {
   "cell_type": "markdown",
   "metadata": {
    "_uuid": "10931d0dae21b26e83deaf5a7049b7ef4cc01bc2"
   },
   "source": [
    "<a id='introduction'></a>\n",
    "## <center> Introduction </center>\n",
    "The Rotten Tomatoes movie review dataset is a corpus of movie reviews used for sentiment analysis, originally collected by Pang and Lee [1]. In their work on sentiment treebanks, Socher et al. [2] used Amazon's Mechanical Turk to create fine-grained labels for all parsed phrases in the corpus. This competition presents a chance to benchmark your sentiment-analysis ideas on the Rotten Tomatoes dataset. You are asked to label phrases on a scale of five values: negative, somewhat negative, neutral, somewhat positive, positive. Obstacles like sentence negation, sarcasm, terseness, language ambiguity, and many others make this task very challenging."
   ]
  },
  {
   "cell_type": "code",
   "execution_count": null,
   "metadata": {
    "_cell_guid": "b1076dfc-b9ad-4769-8c92-a6c4dae69d19",
    "_kg_hide-input": true,
    "_kg_hide-output": false,
    "_uuid": "8f2839f25d086af736a60e9eeb907d3b93b6e0e5",
    "collapsed": true,
    "jupyter": {
     "outputs_hidden": true
    }
   },
   "outputs": [],
   "source": [
    "# imports\n",
    "import numpy as np\n",
    "import pandas as pd\n",
    "import os\n",
    "import seaborn as sns\n",
    "import matplotlib.pyplot as plt\n",
    "%matplotlib inline"
   ]
  },
  {
   "cell_type": "markdown",
   "metadata": {
    "_uuid": "18d3c98d36397742c15fd80a1add047a5595056e"
   },
   "source": [
    "<a id='eda'></a>\n",
    "## <center>EDA</center>\n",
    "Basic exploration of data to check labels , the number of phrases for each label and average phrase length in the each sentiment."
   ]
  },
  {
   "cell_type": "code",
   "execution_count": null,
   "metadata": {
    "_cell_guid": "79c7e3d0-c299-4dcb-8224-4455121ee9b0",
    "_kg_hide-input": true,
    "_uuid": "d629ff2d2480ee46fbb7e2d37f6b5fab8052498a"
   },
   "outputs": [],
   "source": [
    "PATH = '../input/'\n",
    "os.listdir(PATH)"
   ]
  },
  {
   "cell_type": "code",
   "execution_count": null,
   "metadata": {
    "_kg_hide-input": true,
    "_uuid": "29d8d40231bbe5856e994d01bee98e4e6a9a496c"
   },
   "outputs": [],
   "source": [
    "train = pd.read_csv('../input/train.tsv',sep = '\\t')\n",
    "test = pd.read_csv('../input/test.tsv',sep = '\\t')\n",
    "sub = pd.read_csv('../input/sampleSubmission.csv' , sep = ',')"
   ]
  },
  {
   "cell_type": "code",
   "execution_count": null,
   "metadata": {
    "_uuid": "d66a1230e40201b0e85abbdf773edbfb083d9824"
   },
   "outputs": [],
   "source": [
    "train.head()"
   ]
  },
  {
   "cell_type": "code",
   "execution_count": null,
   "metadata": {
    "_uuid": "325cd3a93b98ec90798431a30876a53f880ea082"
   },
   "outputs": [],
   "source": [
    "test.head()"
   ]
  },
  {
   "cell_type": "code",
   "execution_count": null,
   "metadata": {
    "_uuid": "896c533c0e316e63011d92a8325d9cfe94e3ec48"
   },
   "outputs": [],
   "source": [
    "class_count = train['Sentiment'].value_counts()\n",
    "class_count"
   ]
  },
  {
   "cell_type": "markdown",
   "metadata": {
    "_uuid": "2f7b79fbcdf6093220c7f4e518d30c995e652dc5"
   },
   "source": [
    "### The sentiment labels are:\n",
    "\n",
    "0 - negative\n",
    "1 - somewhat negative\n",
    "2 - neutral\n",
    "3 - somewhat positive\n",
    "4 - positive"
   ]
  },
  {
   "cell_type": "code",
   "execution_count": null,
   "metadata": {
    "_uuid": "890c0befeb5488e75df68b82434cbebea85af84f"
   },
   "outputs": [],
   "source": [
    "x = np.array(class_count.index)\n",
    "y = np.array(class_count.values)\n",
    "plt.figure(figsize=(8,5))\n",
    "sns.barplot(x,y)\n",
    "plt.xlabel('Sentiment ')\n",
    "plt.ylabel('Number of reviews ')\n"
   ]
  },
  {
   "cell_type": "code",
   "execution_count": null,
   "metadata": {
    "_uuid": "5bd74a3293e5d3e879e8665440ae13b8087b45b0",
    "collapsed": true,
    "jupyter": {
     "outputs_hidden": true
    }
   },
   "outputs": [],
   "source": []
  },
  {
   "cell_type": "code",
   "execution_count": null,
   "metadata": {
    "_uuid": "aa279a34ea0b2f70c5b69dc75c77df97fd9debc4",
    "collapsed": true,
    "jupyter": {
     "outputs_hidden": true
    }
   },
   "outputs": [],
   "source": [
    "print('Number of sentences in training set:',len(train['SentenceId'].unique()))\n",
    "print('Number of sentences in test set:',len(test['SentenceId'].unique()))\n",
    "print('Average words per sentence in train:',train.groupby('SentenceId')['Phrase'].count().mean())\n",
    "print('Average words per sentence in test:',test.groupby('SentenceId')['Phrase'].count().mean())"
   ]
  },
  {
   "cell_type": "markdown",
   "metadata": {
    "_uuid": "2dfa32f760529484d490e7cef9a6beaf3fd69cfd"
   },
   "source": [
    "### Using Word Clouds to see the higher fequency words from each sentiment"
   ]
  },
  {
   "cell_type": "code",
   "execution_count": null,
   "metadata": {
    "_uuid": "1aa73e272cedea759c0738ff2fede64ed4fd9bed",
    "collapsed": true,
    "jupyter": {
     "outputs_hidden": true
    }
   },
   "outputs": [],
   "source": [
    "from wordcloud import WordCloud, STOPWORDS\n",
    "import matplotlib.pyplot as plt\n",
    "stopwords = set(STOPWORDS)\n",
    "\n",
    "def show_wordcloud(data, title = None):\n",
    "    wordcloud = WordCloud(\n",
    "        background_color='black',\n",
    "        stopwords=stopwords,\n",
    "        max_words=200,\n",
    "        max_font_size=40, \n",
    "        scale=3,\n",
    "        random_state=1 # chosen at random by flipping a coin; it was heads\n",
    ").generate(str(data))\n",
    "\n",
    "    fig = plt.figure(1, figsize=(15, 15))\n",
    "    plt.axis('off')\n",
    "    if title: \n",
    "        fig.suptitle(title, fontsize=20)\n",
    "        fig.subplots_adjust(top=2.3)\n",
    "\n",
    "    plt.imshow(wordcloud)\n",
    "    plt.show()"
   ]
  },
  {
   "cell_type": "code",
   "execution_count": null,
   "metadata": {
    "_uuid": "fc97888433ca1a4131a7f6caae883464cae40561"
   },
   "outputs": [],
   "source": [
    "show_wordcloud(train['Phrase'],'Most Common Words from the whole corpus')"
   ]
  },
  {
   "cell_type": "code",
   "execution_count": null,
   "metadata": {
    "_uuid": "79c000b16a2fc8bdb2c731c7d42eed57dc56e081",
    "collapsed": true,
    "jupyter": {
     "outputs_hidden": true
    }
   },
   "outputs": [],
   "source": [
    "\n",
    "show_wordcloud(train[train['Sentiment'] == 0]['Phrase'],'Negative Reviews')"
   ]
  },
  {
   "cell_type": "code",
   "execution_count": null,
   "metadata": {
    "_uuid": "6a6eec12580f2eb7edf15cf04f56dd3adaa0429f",
    "collapsed": true,
    "jupyter": {
     "outputs_hidden": true
    }
   },
   "outputs": [],
   "source": [
    "\n",
    "show_wordcloud(train[train['Sentiment'] == 1]['Phrase'],'Somewhat Negative Reviews')\n"
   ]
  },
  {
   "cell_type": "code",
   "execution_count": null,
   "metadata": {
    "_uuid": "1d8aa11ed1a6f3253391bcff499ed8c0ea9c425c",
    "collapsed": true,
    "jupyter": {
     "outputs_hidden": true
    }
   },
   "outputs": [],
   "source": [
    "show_wordcloud(train[train['Sentiment'] == 2]['Phrase'],'Neutral Reviews')"
   ]
  },
  {
   "cell_type": "code",
   "execution_count": null,
   "metadata": {
    "_uuid": "7eeecaf771f27e5357db9a81e9ba89fce8439c88",
    "collapsed": true,
    "jupyter": {
     "outputs_hidden": true
    }
   },
   "outputs": [],
   "source": [
    "\n",
    "show_wordcloud(train[train['Sentiment'] == 3]['Phrase'],'Somewhat Positive Reviews')"
   ]
  },
  {
   "cell_type": "code",
   "execution_count": null,
   "metadata": {
    "_uuid": "6e55cd612d8c088c921542e3f99a99a333e6ab45",
    "collapsed": true,
    "jupyter": {
     "outputs_hidden": true
    }
   },
   "outputs": [],
   "source": [
    "\n",
    "show_wordcloud(train[train['Sentiment'] == 4]['Phrase'],'Postive Reviews')"
   ]
  },
  {
   "cell_type": "markdown",
   "metadata": {
    "_uuid": "9e65bcc2ebe3c5c709fb699ab4bc50a2986e752f"
   },
   "source": [
    "<a id='ml'></a>\n",
    "## <center>  Different Machine Learning Models </center>\n"
   ]
  },
  {
   "cell_type": "code",
   "execution_count": null,
   "metadata": {
    "_kg_hide-input": true,
    "_uuid": "aabe265c6a2c0c1c8d558e47be6187cef031a3aa",
    "collapsed": true,
    "jupyter": {
     "outputs_hidden": true
    }
   },
   "outputs": [],
   "source": [
    "from nltk.tokenize import TweetTokenizer\n",
    "from sklearn.feature_extraction.text import TfidfVectorizer\n",
    "tokenizer = TweetTokenizer()"
   ]
  },
  {
   "cell_type": "markdown",
   "metadata": {
    "_uuid": "98af87e6974cf42b31ff0f9c7ade856583785bbe"
   },
   "source": [
    "<a id='N-Grams'></a>\n",
    "##  <center>1.N-Grams</center>"
   ]
  },
  {
   "cell_type": "code",
   "execution_count": null,
   "metadata": {
    "_uuid": "b31a943176e91b4a70539c64835a2e388b2f8140"
   },
   "outputs": [],
   "source": [
    "vectorizer = TfidfVectorizer(ngram_range=(1, 3), tokenizer=tokenizer.tokenize)\n",
    "full_text = list(train['Phrase'].values) + list(test['Phrase'].values)\n",
    "vectorizer.fit(full_text)\n",
    "train_vectorized = vectorizer.transform(train['Phrase'])\n",
    "test_vectorized = vectorizer.transform(test['Phrase'])"
   ]
  },
  {
   "cell_type": "code",
   "execution_count": null,
   "metadata": {
    "_uuid": "0a91420a5f7d903702a7a5d095ca8b39a98df547",
    "collapsed": true,
    "jupyter": {
     "outputs_hidden": true
    }
   },
   "outputs": [],
   "source": [
    "y = train['Sentiment']"
   ]
  },
  {
   "cell_type": "code",
   "execution_count": null,
   "metadata": {
    "_uuid": "06cb0393c45266921dba9dd652136a2c1776d3d1",
    "collapsed": true,
    "jupyter": {
     "outputs_hidden": true
    }
   },
   "outputs": [],
   "source": [
    "from sklearn.model_selection import train_test_split\n",
    "x_train , x_val, y_train , y_val = train_test_split(train_vectorized,y,test_size = 0.2)"
   ]
  },
  {
   "cell_type": "code",
   "execution_count": null,
   "metadata": {
    "_kg_hide-input": true,
    "_uuid": "c2c4eac0dad33083589ded6f7e9607b9d4b4d336",
    "collapsed": true,
    "jupyter": {
     "outputs_hidden": true
    }
   },
   "outputs": [],
   "source": [
    "from sklearn.linear_model import LogisticRegression\n",
    "from sklearn.svm import LinearSVC\n",
    "from sklearn.ensemble import RandomForestClassifier\n",
    "from sklearn.ensemble import VotingClassifier\n",
    "from sklearn.multiclass import OneVsRestClassifier"
   ]
  },
  {
   "cell_type": "code",
   "execution_count": null,
   "metadata": {
    "_uuid": "f546465cda463bd8272debd8f7fc11a1a8f79215",
    "collapsed": true,
    "jupyter": {
     "outputs_hidden": true
    }
   },
   "outputs": [],
   "source": []
  },
  {
   "cell_type": "code",
   "execution_count": null,
   "metadata": {
    "_kg_hide-input": true,
    "_uuid": "1b95e4724a89fc7450324769745222512262a538",
    "collapsed": true,
    "jupyter": {
     "outputs_hidden": true
    }
   },
   "outputs": [],
   "source": [
    "from sklearn.linear_model import LogisticRegression\n",
    "from sklearn.svm import LinearSVC\n",
    "from sklearn.ensemble import RandomForestClassifier\n",
    "from sklearn.ensemble import VotingClassifier\n",
    "from sklearn.multiclass import OneVsRestClassifier\n",
    "from sklearn.metrics import classification_report\n",
    "from sklearn.metrics import accuracy_score"
   ]
  },
  {
   "cell_type": "markdown",
   "metadata": {
    "_uuid": "22b871c4dd7b9325396e380b967577fe91860c92"
   },
   "source": [
    "### Training Logistic Reagression model and an SVM."
   ]
  },
  {
   "cell_type": "code",
   "execution_count": null,
   "metadata": {
    "_uuid": "999f091cd2f3ed06833f5fa1fea1379c7963ec2f",
    "collapsed": true,
    "jupyter": {
     "outputs_hidden": true
    }
   },
   "outputs": [],
   "source": [
    "lr = LogisticRegression()\n",
    "ovr = OneVsRestClassifier(lr)\n",
    "ovr.fit(x_train,y_train)\n",
    "print(classification_report( ovr.predict(x_val) , y_val))\n",
    "print(accuracy_score( ovr.predict(x_val) , y_val ))"
   ]
  },
  {
   "cell_type": "code",
   "execution_count": null,
   "metadata": {
    "_uuid": "cf76cb4d375c640317355b44a02d57db62e6d62e",
    "collapsed": true,
    "jupyter": {
     "outputs_hidden": true
    }
   },
   "outputs": [],
   "source": [
    "svm = LinearSVC()\n",
    "svm.fit(x_train,y_train)\n",
    "print(classification_report( svm.predict(x_val) , y_val))\n",
    "print(accuracy_score( svm.predict(x_val) , y_val ))"
   ]
  },
  {
   "cell_type": "code",
   "execution_count": null,
   "metadata": {
    "_uuid": "91730fce36275417a962dd051f7fe3183bec6783",
    "collapsed": true,
    "jupyter": {
     "outputs_hidden": true
    }
   },
   "outputs": [],
   "source": [
    "estimators = [ ('svm',svm) , ('ovr' , ovr) ]\n",
    "clf = VotingClassifier(estimators , voting='hard')\n",
    "clf.fit(x_train,y_train)\n",
    "print(classification_report( clf.predict(x_val) , y_val))\n",
    "print(accuracy_score( clf.predict(x_val) , y_val ))"
   ]
  },
  {
   "cell_type": "code",
   "execution_count": null,
   "metadata": {
    "_uuid": "c49a8604f6498e0b9cc4fd0646b4cf5a5cb2bb88",
    "collapsed": true,
    "jupyter": {
     "outputs_hidden": true
    }
   },
   "outputs": [],
   "source": [
    "from keras.utils import to_categorical\n",
    "target=train.Sentiment.values\n",
    "y=to_categorical(target)\n",
    "y"
   ]
  },
  {
   "cell_type": "code",
   "execution_count": null,
   "metadata": {
    "_uuid": "4f5849e1d6ff0aee9f87bb37e51f84e7cc244de2",
    "collapsed": true,
    "jupyter": {
     "outputs_hidden": true
    }
   },
   "outputs": [],
   "source": [
    "max_features = 13000\n",
    "max_words = 50\n",
    "batch_size = 128\n",
    "epochs = 3\n",
    "num_classes=5\n"
   ]
  },
  {
   "cell_type": "code",
   "execution_count": null,
   "metadata": {
    "_uuid": "570977948be593b9fd892dcd068df2aff3dafc22",
    "collapsed": true,
    "jupyter": {
     "outputs_hidden": true
    }
   },
   "outputs": [],
   "source": [
    "from sklearn.model_selection import train_test_split\n",
    "X_train , X_val , Y_train , Y_val = train_test_split(train['Phrase'],y,test_size = 0.20)"
   ]
  },
  {
   "cell_type": "code",
   "execution_count": null,
   "metadata": {
    "_uuid": "0126cc0171c609188220e2132855292a88ef524c",
    "collapsed": true,
    "jupyter": {
     "outputs_hidden": true
    }
   },
   "outputs": [],
   "source": [
    "from keras.preprocessing.text import Tokenizer\n",
    "from keras.preprocessing.sequence import pad_sequences\n",
    "from keras.models import Sequential\n",
    "from keras.layers import Dense,GRU,LSTM,Embedding\n",
    "from keras.optimizers import Adam\n",
    "from keras.layers import SpatialDropout1D,Dropout,Bidirectional,Conv1D,GlobalMaxPooling1D,MaxPooling1D,Flatten\n",
    "from keras.callbacks import ModelCheckpoint, TensorBoard, Callback, EarlyStopping"
   ]
  },
  {
   "cell_type": "code",
   "execution_count": null,
   "metadata": {
    "_uuid": "3f832bc54408485a504342f138cd3110f4d139c5",
    "collapsed": true,
    "jupyter": {
     "outputs_hidden": true
    }
   },
   "outputs": [],
   "source": [
    "tokenizer = Tokenizer(num_words=max_features)\n",
    "tokenizer.fit_on_texts(list(X_train))\n",
    "X_train = tokenizer.texts_to_sequences(X_train)\n",
    "X_val = tokenizer.texts_to_sequences(X_val)\n"
   ]
  },
  {
   "cell_type": "code",
   "execution_count": null,
   "metadata": {
    "_uuid": "ebd9cf237a4b2f0bf423af0b6bcbd68e60b9a4de",
    "collapsed": true,
    "jupyter": {
     "outputs_hidden": true
    }
   },
   "outputs": [],
   "source": [
    "X_test = tokenizer.texts_to_sequences(test['Phrase'])\n",
    "X_test =pad_sequences(X_test, maxlen=max_words)"
   ]
  },
  {
   "cell_type": "code",
   "execution_count": null,
   "metadata": {
    "_uuid": "035f86f299734eaf061defa4f82c7fb7f5bd28e0",
    "collapsed": true,
    "jupyter": {
     "outputs_hidden": true
    }
   },
   "outputs": [],
   "source": [
    "len(X_test)\n"
   ]
  },
  {
   "cell_type": "code",
   "execution_count": null,
   "metadata": {
    "_uuid": "7f2906a51ab6cb85e6aa062e602dd0f1522929d5",
    "collapsed": true,
    "jupyter": {
     "outputs_hidden": true
    }
   },
   "outputs": [],
   "source": [
    "X_train =pad_sequences(X_train, maxlen=max_words)\n",
    "X_val = pad_sequences(X_val, maxlen=max_words)\n",
    "X_test =pad_sequences(X_test, maxlen=max_words)"
   ]
  },
  {
   "cell_type": "markdown",
   "metadata": {
    "_uuid": "1ab476f7501f1e561b4722db495b29de2f99273a"
   },
   "source": [
    "<a id='gru'></a>\n",
    "## <center>GRU</center>"
   ]
  },
  {
   "cell_type": "code",
   "execution_count": null,
   "metadata": {
    "_uuid": "9d6f8da262639626367ef2676af8cc1b2b5e744d",
    "collapsed": true,
    "jupyter": {
     "outputs_hidden": true
    }
   },
   "outputs": [],
   "source": [
    "model_GRU=Sequential()\n",
    "model_GRU.add(Embedding(max_features,100,mask_zero=True))\n",
    "model_GRU.add(GRU(64,dropout=0.4,return_sequences=True))\n",
    "model_GRU.add(GRU(32,dropout=0.5,return_sequences=False))\n",
    "model_GRU.add(Dense(num_classes,activation='softmax'))\n",
    "model_GRU.compile(loss='categorical_crossentropy',optimizer=Adam(lr = 0.001),metrics=['accuracy'])\n",
    "model_GRU.summary()"
   ]
  },
  {
   "cell_type": "code",
   "execution_count": null,
   "metadata": {
    "_uuid": "35ec6844c03756d6df1d7c988263fa60f3598c85",
    "collapsed": true,
    "jupyter": {
     "outputs_hidden": true
    }
   },
   "outputs": [],
   "source": [
    "%%time\n",
    "history1=model_GRU.fit(X_train, Y_train, validation_data=(X_val, Y_val),epochs=epochs, batch_size=batch_size, verbose=1)"
   ]
  },
  {
   "cell_type": "code",
   "execution_count": null,
   "metadata": {
    "_uuid": "9f1d395c9d96c0b674f9704167717939f305becf",
    "collapsed": true,
    "jupyter": {
     "outputs_hidden": true
    }
   },
   "outputs": [],
   "source": [
    "y_pred1=model_GRU.predict_classes(X_test, verbose=1)\n",
    "sub.Sentiment=y_pred1\n",
    "sub.to_csv('sub1_GRU.csv',index=False)\n",
    "sub.head()"
   ]
  },
  {
   "cell_type": "code",
   "execution_count": null,
   "metadata": {
    "_uuid": "e99fe02bbc3211014f6e01f3d0421dc9f6467323",
    "collapsed": true,
    "jupyter": {
     "outputs_hidden": true
    }
   },
   "outputs": [],
   "source": []
  },
  {
   "cell_type": "code",
   "execution_count": null,
   "metadata": {
    "_uuid": "f2157eb155fd5dd68ffb8f82190957c361c2b0d5",
    "collapsed": true,
    "jupyter": {
     "outputs_hidden": true
    }
   },
   "outputs": [],
   "source": [
    "model2_GRU=Sequential()\n",
    "model2_GRU.add(Embedding(max_features,100,mask_zero=True))\n",
    "model2_GRU.add(GRU(64,dropout=0.4,return_sequences=True))\n",
    "model2_GRU.add(GRU(32,dropout=0.5,return_sequences=False))\n",
    "model2_GRU.add(Dense(num_classes,activation='sigmoid'))\n",
    "model2_GRU.compile(loss='binary_crossentropy',optimizer=Adam(lr = 0.001),metrics=['accuracy'])\n",
    "model2_GRU.summary()"
   ]
  },
  {
   "cell_type": "code",
   "execution_count": null,
   "metadata": {
    "_uuid": "83bee7a746c1834ac68607faeabc15600960aecd",
    "collapsed": true,
    "jupyter": {
     "outputs_hidden": true
    }
   },
   "outputs": [],
   "source": [
    "%%time\n",
    "history2=model2_GRU.fit(X_train, Y_train, validation_data=(X_val, Y_val),epochs=epochs, batch_size=batch_size, verbose=1)"
   ]
  },
  {
   "cell_type": "code",
   "execution_count": null,
   "metadata": {
    "_uuid": "1debaf7689c959c5355faa61aa1b74fff89c792f",
    "collapsed": true,
    "jupyter": {
     "outputs_hidden": true
    }
   },
   "outputs": [],
   "source": [
    "y_pred2=model2_GRU.predict_classes(X_test, verbose=1)\n",
    "sub.Sentiment=y_pred2\n",
    "sub.to_csv('sub2_GRU.csv',index=False)\n",
    "sub.head()"
   ]
  },
  {
   "cell_type": "markdown",
   "metadata": {
    "_uuid": "806aa164342d001473874bf870f38f6dd2e6a7e5"
   },
   "source": [
    "<a id='lstm'></a>\n",
    "## <center>LSTM</center>"
   ]
  },
  {
   "cell_type": "code",
   "execution_count": null,
   "metadata": {
    "_uuid": "bc1a7f2e8df01e793c9b9c650f0b2ada5da9ea7f",
    "collapsed": true,
    "jupyter": {
     "outputs_hidden": true
    }
   },
   "outputs": [],
   "source": [
    "model3_LSTM=Sequential()\n",
    "model3_LSTM.add(Embedding(max_features,100,mask_zero=True))\n",
    "model3_LSTM.add(LSTM(64,dropout=0.4,return_sequences=True))\n",
    "model3_LSTM.add(LSTM(32,dropout=0.5,return_sequences=False))\n",
    "model3_LSTM.add(Dense(num_classes,activation='sigmoid'))\n",
    "model3_LSTM.compile(loss='binary_crossentropy',optimizer=Adam(lr = 0.001),metrics=['accuracy'])\n",
    "model3_LSTM.summary()"
   ]
  },
  {
   "cell_type": "code",
   "execution_count": null,
   "metadata": {
    "_uuid": "efc8e77c7c8dea9780b5a85b3a0cab2aec83d3ee",
    "collapsed": true,
    "jupyter": {
     "outputs_hidden": true
    },
    "scrolled": true
   },
   "outputs": [],
   "source": [
    "%%time\n",
    "history3=model3_LSTM.fit(X_train, Y_train, validation_data=(X_val, Y_val),epochs=epochs, batch_size=batch_size, verbose=1)"
   ]
  },
  {
   "cell_type": "code",
   "execution_count": null,
   "metadata": {
    "_uuid": "e4a577c673e95f9673f2de5af79005829e6bb7cc",
    "collapsed": true,
    "jupyter": {
     "outputs_hidden": true
    }
   },
   "outputs": [],
   "source": [
    "y_pred3=model3_LSTM.predict_classes(X_test, verbose=1)\n",
    "sub.Sentiment=y_pred3\n",
    "sub.to_csv('sub3_LSTM.csv',index=False)\n",
    "sub.head()"
   ]
  },
  {
   "cell_type": "markdown",
   "metadata": {
    "_uuid": "a0a1b230fa9a7e5d4d8c5860efe9ea9165efacc7"
   },
   "source": [
    "<a id='bgru'></a>\n",
    "## <center>Bidirectional-GRU</center>"
   ]
  },
  {
   "cell_type": "code",
   "execution_count": null,
   "metadata": {
    "_uuid": "c83add03de8627eeae8101fe515bc8279985dc0e",
    "collapsed": true,
    "jupyter": {
     "outputs_hidden": true
    }
   },
   "outputs": [],
   "source": [
    "model4_BGRU = Sequential()\n",
    "model4_BGRU.add(Embedding(max_features, 100, input_length=max_words))\n",
    "model4_BGRU.add(SpatialDropout1D(0.25))\n",
    "model4_BGRU.add(Bidirectional(GRU(64,dropout=0.4,return_sequences = True)))\n",
    "model4_BGRU.add(Bidirectional(GRU(32,dropout=0.5,return_sequences = False)))\n",
    "model4_BGRU.add(Dense(5, activation='sigmoid'))\n",
    "model4_BGRU.compile(loss='binary_crossentropy', optimizer='adam', metrics=['accuracy'])\n",
    "model4_BGRU.summary()"
   ]
  },
  {
   "cell_type": "code",
   "execution_count": null,
   "metadata": {
    "_uuid": "e05db74d77ff0eec96cb437ff5d9122b3dc9e866",
    "collapsed": true,
    "jupyter": {
     "outputs_hidden": true
    }
   },
   "outputs": [],
   "source": [
    "%%time\n",
    "history4=model4_BGRU.fit(X_train, Y_train, validation_data=(X_val, Y_val),epochs=epochs, batch_size=batch_size, verbose=1)"
   ]
  },
  {
   "cell_type": "code",
   "execution_count": null,
   "metadata": {
    "_uuid": "38d6ef80f154a63ac460904bd0940a02028a71f7",
    "collapsed": true,
    "jupyter": {
     "outputs_hidden": true
    }
   },
   "outputs": [],
   "source": [
    "y_pred4=model4_BGRU.predict_classes(X_test, verbose=1)\n",
    "sub.Sentiment=y_pred4\n",
    "sub.to_csv('sub4_BGRU.csv',index=False)\n",
    "sub.head()"
   ]
  },
  {
   "cell_type": "markdown",
   "metadata": {
    "_uuid": "e041dad2eae2d6fa98b6603024d9a8aa3b6289c5"
   },
   "source": [
    "<a id='cnn'></a>\n",
    "## <center>CNN</center>"
   ]
  },
  {
   "cell_type": "code",
   "execution_count": null,
   "metadata": {
    "_uuid": "6f4473da651500bf9e0d7a4b21a2d87009a21ace",
    "collapsed": true,
    "jupyter": {
     "outputs_hidden": true
    }
   },
   "outputs": [],
   "source": [
    "model5_CNN= Sequential()\n",
    "model5_CNN.add(Embedding(max_features,100,input_length=max_words))\n",
    "model5_CNN.add(Dropout(0.2))\n",
    "model5_CNN.add(Conv1D(64,kernel_size=3,padding='same',activation='relu',strides=1))\n",
    "model5_CNN.add(GlobalMaxPooling1D())\n",
    "model5_CNN.add(Dense(128,activation='relu'))\n",
    "model5_CNN.add(Dropout(0.2))\n",
    "model5_CNN.add(Dense(num_classes,activation='sigmoid'))\n",
    "model5_CNN.compile(loss='binary_crossentropy',optimizer='adam',metrics=['accuracy'])\n",
    "model5_CNN.summary()"
   ]
  },
  {
   "cell_type": "code",
   "execution_count": null,
   "metadata": {
    "_uuid": "f534672073fc0c5bb279b7caf57e79e97625eaa0",
    "collapsed": true,
    "jupyter": {
     "outputs_hidden": true
    }
   },
   "outputs": [],
   "source": [
    "%%time\n",
    "early_stop = EarlyStopping(monitor = \"val_loss\", mode = \"min\", patience = 3)\n",
    "\n",
    "history5=model5_CNN.fit(X_train, Y_train, validation_data=(X_val, Y_val),epochs=3, batch_size=batch_size, verbose=1,callbacks = [early_stop])"
   ]
  },
  {
   "cell_type": "code",
   "execution_count": null,
   "metadata": {
    "_uuid": "2b5e1919036130e52fb23bf7518d2e3fbaae86b2",
    "collapsed": true,
    "jupyter": {
     "outputs_hidden": true
    }
   },
   "outputs": [],
   "source": [
    "y_pred5=model5_CNN.predict_classes(X_test, verbose=1)\n",
    "sub.Sentiment=y_pred5\n",
    "sub.to_csv('sub5_CNN.csv',index=False)\n",
    "sub.head()"
   ]
  },
  {
   "cell_type": "markdown",
   "metadata": {
    "_uuid": "a95278bf9eec948836bda0741a2b3efbdaf40db4"
   },
   "source": [
    "<a id='cgru'></a>\n",
    "## <center>CNN-GRU</center>"
   ]
  },
  {
   "cell_type": "code",
   "execution_count": null,
   "metadata": {
    "_uuid": "af0556002a5c1c051cd58514f0dcf3de81c7be83",
    "collapsed": true,
    "jupyter": {
     "outputs_hidden": true
    }
   },
   "outputs": [],
   "source": [
    "model6_CnnGRU= Sequential()\n",
    "model6_CnnGRU.add(Embedding(max_features,100,input_length=max_words))\n",
    "model6_CnnGRU.add(Conv1D(64,kernel_size=3,padding='same',activation='relu'))\n",
    "model6_CnnGRU.add(MaxPooling1D(pool_size=2))\n",
    "model6_CnnGRU.add(Dropout(0.25))\n",
    "model6_CnnGRU.add(GRU(128,return_sequences=True))\n",
    "model6_CnnGRU.add(Dropout(0.3))\n",
    "model6_CnnGRU.add(Flatten())\n",
    "model6_CnnGRU.add(Dense(128,activation='relu'))\n",
    "model6_CnnGRU.add(Dropout(0.5))\n",
    "model6_CnnGRU.add(Dense(5,activation='sigmoid'))\n",
    "model6_CnnGRU.compile(loss='binary_crossentropy',optimizer=Adam(lr=0.001),metrics=['accuracy'])\n",
    "model6_CnnGRU.summary()"
   ]
  },
  {
   "cell_type": "code",
   "execution_count": null,
   "metadata": {
    "_uuid": "92e6b1c3e3714b9a93ae2ccce749ea31fb60f461",
    "collapsed": true,
    "jupyter": {
     "outputs_hidden": true
    }
   },
   "outputs": [],
   "source": [
    "%%time\n",
    "history6=model6_CnnGRU.fit(X_train, Y_train, validation_data=(X_val, Y_val),epochs=3, batch_size=batch_size, verbose=1,callbacks=[early_stop])"
   ]
  },
  {
   "cell_type": "code",
   "execution_count": null,
   "metadata": {
    "_uuid": "91e137ff022529f560b96edb72955a4b4666b43e",
    "collapsed": true,
    "jupyter": {
     "outputs_hidden": true
    }
   },
   "outputs": [],
   "source": [
    "y_pred6=model6_CnnGRU.predict_classes(X_test, verbose=1)\n",
    "sub.Sentiment=y_pred6\n",
    "sub.to_csv('sub6_CnnGRU.csv',index=False)\n",
    "sub.head()"
   ]
  },
  {
   "cell_type": "markdown",
   "metadata": {
    "_uuid": "782d0c89fd6b982b836820424c8071b32d2e0c3b"
   },
   "source": [
    "<a id='gruc'></a>\n",
    "## <center>GRU-CNN</center>"
   ]
  },
  {
   "cell_type": "code",
   "execution_count": null,
   "metadata": {
    "_uuid": "a9da399dce474cb6335d466eb39d4138fcd38277",
    "collapsed": true,
    "jupyter": {
     "outputs_hidden": true
    }
   },
   "outputs": [],
   "source": [
    "model7_GruCNN = Sequential()\n",
    "model7_GruCNN.add(Embedding(max_features,100,input_length=max_words))\n",
    "model7_GruCNN.add(Dropout(0.2))\n",
    "model7_GruCNN.add(Bidirectional(GRU(units=128 , return_sequences=True)))\n",
    "model7_GruCNN.add(Conv1D(32 , kernel_size=3 , padding='same' , activation='relu'))\n",
    "model7_GruCNN.add(GlobalMaxPooling1D())\n",
    "model7_GruCNN.add(Dense(units = 64 , activation='relu'))\n",
    "model7_GruCNN.add(Dropout(0.5))\n",
    "model7_GruCNN.add(Dense(units=5,activation='sigmoid'))\n",
    "model7_GruCNN.compile(loss='binary_crossentropy' , optimizer = 'adam' , metrics=['accuracy'])\n",
    "model7_GruCNN.summary()"
   ]
  },
  {
   "cell_type": "code",
   "execution_count": null,
   "metadata": {
    "_uuid": "07dd56029323dfc4d3ab00ec5b40013e02b97e17",
    "collapsed": true,
    "jupyter": {
     "outputs_hidden": true
    }
   },
   "outputs": [],
   "source": [
    "%%time\n",
    "history7 = model7_GruCNN.fit(X_train, Y_train, validation_data=(X_val, Y_val),epochs=4, batch_size=batch_size, verbose=1,callbacks=[early_stop])"
   ]
  },
  {
   "cell_type": "code",
   "execution_count": null,
   "metadata": {
    "_uuid": "6ab9e60d17788a2810b59aeac67ac741ddd63fa2"
   },
   "outputs": [],
   "source": [
    "y_pred7=model7_GruCNN.predict_classes(X_test, verbose=1)\n",
    "sub.Sentiment=y_pred7\n",
    "sub.to_csv('sub7_GruCNN.csv',index=False)\n",
    "sub.head()"
   ]
  },
  {
   "cell_type": "markdown",
   "metadata": {
    "_uuid": "49ede34e51ca0fa3006b2f8c546c26c90e713968"
   },
   "source": [
    "<a id='en'></a>\n",
    "## <center>Ensembling all the predictions</center>"
   ]
  },
  {
   "cell_type": "code",
   "execution_count": null,
   "metadata": {
    "_uuid": "d21e20c409c7ede0320814b3c80e1a2a6dee7896",
    "collapsed": true,
    "jupyter": {
     "outputs_hidden": true
    }
   },
   "outputs": [],
   "source": [
    "sub_all=pd.DataFrame({'model1':y_pred1,'model2':y_pred2,'model3':y_pred3,'model4':y_pred4,'model5':y_pred5,'model6':y_pred6,'model7':y_pred7})\n",
    "pred_mode=sub_all.agg('mode',axis=1)[0].values\n",
    "sub_all.head()"
   ]
  },
  {
   "cell_type": "code",
   "execution_count": null,
   "metadata": {
    "_uuid": "b481bbc8c8ba3fbc7f443bf5273374b8d02b699c",
    "collapsed": true,
    "jupyter": {
     "outputs_hidden": true
    }
   },
   "outputs": [],
   "source": [
    "pred_mode=[int(i) for i in pred_mode]\n",
    "sub.Sentiment=pred_mode\n",
    "sub.to_csv('ensemble_mode.csv',index=False)\n",
    "sub.head()"
   ]
  },
  {
   "cell_type": "code",
   "execution_count": null,
   "metadata": {
    "_uuid": "0e58b02984c59994ff65ec89876618170f5b68bb",
    "collapsed": true,
    "jupyter": {
     "outputs_hidden": true
    }
   },
   "outputs": [],
   "source": []
  }
 ],
 "metadata": {
  "kernelspec": {
   "display_name": "Python 3",
   "language": "python",
   "name": "python3"
  },
  "language_info": {
   "codemirror_mode": {
    "name": "ipython",
    "version": 3
   },
   "file_extension": ".py",
   "mimetype": "text/x-python",
   "name": "python",
   "nbconvert_exporter": "python",
   "pygments_lexer": "ipython3",
   "version": "3.6.3"
  }
 },
 "nbformat": 4,
 "nbformat_minor": 4
}
